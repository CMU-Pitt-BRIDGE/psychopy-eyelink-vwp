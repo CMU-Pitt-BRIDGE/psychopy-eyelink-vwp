{
 "cells": [
  {
   "cell_type": "markdown",
   "metadata": {},
   "source": [
    "We should have already downloaded psychopy, but if you have not, please do so."
   ]
  },
  {
   "cell_type": "markdown",
   "metadata": {},
   "source": [
    "Once psychopy is installed, download the necessary packages for creating an experiment:"
   ]
  },
  {
   "cell_type": "code",
   "execution_count": 11,
   "metadata": {},
   "outputs": [],
   "source": [
    "import random, os\n",
    "from psychopy import core, visual, event, gui, sound\n",
    "from psychopy.hardware import keyboard\n",
    "from PIL import Image\n",
    "import pandas as pd"
   ]
  },
  {
   "cell_type": "markdown",
   "metadata": {},
   "source": [
    "Next, we are going to set our directory variable so that we don't have to type out where our stimuli are all of the time:"
   ]
  },
  {
   "cell_type": "code",
   "execution_count": 2,
   "metadata": {},
   "outputs": [],
   "source": [
    "#make sure you change this to the directory where you downloaded the stim folder!\n",
    "dir = './stim/'"
   ]
  },
  {
   "cell_type": "markdown",
   "metadata": {},
   "source": [
    "The first thing I like to do when running an experiment is record the subject number and any other pertinent information about the session. This can be done with a dialogue box."
   ]
  },
  {
   "cell_type": "code",
   "execution_count": 3,
   "metadata": {},
   "outputs": [
    {
     "data": {
      "text/plain": [
       "['1']"
      ]
     },
     "execution_count": 3,
     "metadata": {},
     "output_type": "execute_result"
    }
   ],
   "source": [
    "myDlg = gui.Dlg()\n",
    "myDlg.addField('Subject Number:')\n",
    "myDlg.show()"
   ]
  },
  {
   "cell_type": "markdown",
   "metadata": {},
   "source": [
    "To record the participant's response, you have to input that information into a variable for later use. "
   ]
  },
  {
   "cell_type": "code",
   "execution_count": 4,
   "metadata": {},
   "outputs": [
    {
     "name": "stdout",
     "output_type": "stream",
     "text": [
      "1\n"
     ]
    }
   ],
   "source": [
    "subj_num = int(myDlg.data[0])\n",
    "print(subj_num)"
   ]
  },
  {
   "cell_type": "markdown",
   "metadata": {},
   "source": [
    "Now that you have all of the information that you need about your participant, you want to present stimuli. PsychoPy can present both visual and audio stimulus. This next step is important for presenting any type of stimulus.\n",
    "\n",
    "This next step will open a new window, but because we are not presenting stimuli yet it will be blank."
   ]
  },
  {
   "cell_type": "code",
   "execution_count": 5,
   "metadata": {},
   "outputs": [],
   "source": [
    "#This step is important because the 'win' variable will be used a lot going forward.\n",
    "#This creates a small pop-out window rather than full screen.\n",
    "win = visual.Window(size= (800,  600),fullscr=None)"
   ]
  },
  {
   "cell_type": "markdown",
   "metadata": {},
   "source": [
    "I recommend using the above command and not the next one for the rest of the tutorial."
   ]
  },
  {
   "cell_type": "markdown",
   "metadata": {},
   "source": [
    "This is a simple way to do full screen:"
   ]
  },
  {
   "cell_type": "code",
   "execution_count": null,
   "metadata": {},
   "outputs": [],
   "source": [
    " win = visual.Window(monitor=\"testMonitor\", fullscr=True)"
   ]
  },
  {
   "cell_type": "code",
   "execution_count": 6,
   "metadata": {},
   "outputs": [],
   "source": [
    "defaultKeyboard = keyboard.Keyboard(backend='event')"
   ]
  },
  {
   "cell_type": "markdown",
   "metadata": {},
   "source": [
    "How to present a text stimulus:"
   ]
  },
  {
   "cell_type": "code",
   "execution_count": 9,
   "metadata": {},
   "outputs": [],
   "source": [
    "#this creates a variable \"intro\" to be presented on the screen.\n",
    "intro = visual.TextStim(win, text=\"You can easily present text instructions to your particpant.\")\n",
    "intro.draw()\n",
    "win.flip()\n",
    "#this command tells the program to wait one second before moving on\n",
    "core.wait(1.0)\n",
    "#Text can be typed out, as above, or you can create a varible to present text. We will get to that later."
   ]
  },
  {
   "cell_type": "markdown",
   "metadata": {},
   "source": [
    "How to present an image:"
   ]
  },
  {
   "cell_type": "code",
   "execution_count": 8,
   "metadata": {},
   "outputs": [
    {
     "data": {
      "text/plain": [
       "['space']"
      ]
     },
     "execution_count": 8,
     "metadata": {},
     "output_type": "execute_result"
    }
   ],
   "source": [
    "image_stim = Image.open(dir+'polarbear.jpg')\n",
    "stim_size = (0.4, 0.5)\n",
    "pic_draw = visual.ImageStim(win, image_stim, size = (stim_size))\n",
    "pic_draw.draw()\n",
    "win.update()\n",
    "#this line below tells the program to wait until the space bar is pressed to exit the screen and move on\n",
    "event.waitKeys(keyList=[\"space\"])"
   ]
  },
  {
   "cell_type": "markdown",
   "metadata": {},
   "source": [
    "How to present audio:"
   ]
  },
  {
   "cell_type": "code",
   "execution_count": 12,
   "metadata": {},
   "outputs": [],
   "source": [
    "sound_play = sound.Sound(dir+'polarbear.aiff')\n",
    "sound_play.play()\n",
    "win.update()\n",
    "core.wait(5.0)"
   ]
  },
  {
   "cell_type": "markdown",
   "metadata": {},
   "source": [
    "Now we have the basics down, I will show you how to import data and create a loop to present multiple stimuli."
   ]
  },
  {
   "cell_type": "code",
   "execution_count": 13,
   "metadata": {},
   "outputs": [],
   "source": [
    "data = pd.read_csv(dir+'stim.csv')"
   ]
  },
  {
   "cell_type": "code",
   "execution_count": 28,
   "metadata": {},
   "outputs": [],
   "source": [
    "#once the full dataset is imported, you can create a list of each stimuli\n",
    "pic = data['animal_image']\n",
    "audio = data['question_audio']\n",
    "fact_question = data['question']\n",
    "q_a = data['choice_a']\n",
    "q_b = data['choice_b']\n",
    "answer = data['correct_answer']"
   ]
  },
  {
   "cell_type": "code",
   "execution_count": 29,
   "metadata": {},
   "outputs": [
    {
     "name": "stdout",
     "output_type": "stream",
     "text": [
      "0                polarbear.jpg\n",
      "1                   toucan.jpg\n",
      "2                clownfish.jpg\n",
      "3    woollybearcaterpillar.jpg\n",
      "Name: animal_image, dtype: object\n"
     ]
    }
   ],
   "source": [
    "print(pic)"
   ]
  },
  {
   "cell_type": "markdown",
   "metadata": {},
   "source": [
    "I prefer to use a while loop for experiments. You can only do this if you know how many iterations you will have. In our case, it is 4."
   ]
  },
  {
   "cell_type": "code",
   "execution_count": 17,
   "metadata": {},
   "outputs": [],
   "source": [
    "#the variable new_pic is used because now we have multiple pictures that need to be opened\n",
    "#pic[n] tells the program to take one of the variables inside of pic and turn it into the new variable, new_pic\n",
    "n = 0\n",
    "while n != 3:\n",
    "    new_pic = pic[n]\n",
    "    image_stim = Image.open(dir+new_pic)\n",
    "    pic_draw = visual.ImageStim(win, image_stim, size = (stim_size))\n",
    "\n",
    "#present audio\n",
    "    new_sound = audio[n]\n",
    "    sound_play = sound.Sound(dir+new_sound)\n",
    "    pic_draw.draw()\n",
    "    sound_play.play()\n",
    "    #this should show the image and play the audio at the same time\n",
    "    win.update()\n",
    "    event.waitKeys(keyList=[\"space\"])\n",
    "    #this increases n by 1 and allows the while loop to continue until n = 4\n",
    "    n = n +1"
   ]
  },
  {
   "cell_type": "markdown",
   "metadata": {},
   "source": [
    "Now that participants have completed the encoding portion, they can move on to the recall portion, which includes presenting images and text, but no audio."
   ]
  },
  {
   "cell_type": "code",
   "execution_count": 30,
   "metadata": {},
   "outputs": [],
   "source": [
    "n = 0\n",
    "while n < 4:\n",
    "\n",
    "    new_pic = pic[n]\n",
    "    image_stim = Image.open(dir+new_pic)\n",
    "    #this sets up the text questions that accompany the image\n",
    "    q = fact_question[n]\n",
    "    a1 = q_a[n]\n",
    "    a2 = q_b[n]\n",
    "    #this prepares the text to be put on the screen - definitely play around with postioning, etc\n",
    "    question = visual.TextStim(win, text=q)\n",
    "    question.pos = (0, -0.2)\n",
    "    question.draw()\n",
    "    answers1 = visual.TextStim(win, text=\"a.\"+a1)\n",
    "    answers1.pos = (0, -0.5)\n",
    "    answers1.draw()\n",
    "    answers2 = visual.TextStim(win, text=\"b.\"+a2)\n",
    "    answers2.pos = (0, -0.7)\n",
    "    answers2.draw()\n",
    "    win.update()\n",
    "    keys = event.waitKeys(keyList=['a', 'b', 'escape'])\n",
    "\n",
    "    n = n + 1"
   ]
  },
  {
   "cell_type": "markdown",
   "metadata": {},
   "source": [
    "If you want to include recording responses it would look something like this:"
   ]
  },
  {
   "cell_type": "code",
   "execution_count": 31,
   "metadata": {},
   "outputs": [],
   "source": [
    "output = pd.DataFrame(columns = (['Subject', 'Stim', 'Correct Answer', 'Subject Answer', 'Accuracy']))\n",
    "output.loc[0, 'Subject'] = subj_num"
   ]
  },
  {
   "cell_type": "markdown",
   "metadata": {},
   "source": [
    "Here is an example of how to use that to record data in our while loop:"
   ]
  },
  {
   "cell_type": "code",
   "execution_count": 35,
   "metadata": {},
   "outputs": [],
   "source": [
    "#this if statement takes input from the participant response, compares it to what it should be, and provides feedback\n",
    "n = 0\n",
    "while n < 4:\n",
    "    output.loc[n, 'Subject'] = subj_num\n",
    "    if 'a' in keys:\n",
    "        if 'a' == answer[n]:\n",
    "            output.loc[n, 'Stim'] = new_pic\n",
    "            output.loc[n, 'Correct Answer'] = answer[n]\n",
    "            output.loc[n, 'Subject Answer'] = keys\n",
    "            output.loc[n, 'Accuracy'] = 1\n",
    "            message = visual.TextStim(win, text=\"That is correct!\")\n",
    "            message.draw()\n",
    "            win.update()\n",
    "            core.wait(1.0)\n",
    "        if 'a' != answer[n]:\n",
    "            output.loc[n, 'Stim'] = new_pic\n",
    "            output.loc[n, 'Correct Answer'] = answer[n]\n",
    "            output.loc[n, 'Subject Answer'] = keys\n",
    "            output.loc[n, 'Accuracy'] = 0\n",
    "            message = visual.TextStim(win, text=\"That is incorrect!\")\n",
    "            message.draw()\n",
    "            win.update()\n",
    "            core.wait(1.0)\n",
    "    if 'b' in keys:\n",
    "        if 'b' == answer[n]:\n",
    "            output.loc[n, 'Stim'] = new_pic\n",
    "            output.loc[n, 'Correct Answer'] = answer[n]\n",
    "            output.loc[n, 'Subject Answer'] = keys\n",
    "            output.loc[n, 'Accuracy'] = 1\n",
    "            message = visual.TextStim(win, text=\"That is correct!\")\n",
    "            message.draw()\n",
    "            win.update()\n",
    "            core.wait(1.0)\n",
    "        if 'b' != answer[n]:\n",
    "            output.loc[n, 'Stim'] = new_pic\n",
    "            output.loc[n, 'Correct Answer'] = answer[n]\n",
    "            output.loc[n, 'Subject Answer'] = keys\n",
    "            output.loc[n, 'Accuracy'] = 0\n",
    "            message = visual.TextStim(win, text=\"That is incorrect!\")\n",
    "            message.draw()\n",
    "            win.update()\n",
    "            core.wait(1.0)\n",
    "    n = n + 1"
   ]
  },
  {
   "cell_type": "markdown",
   "metadata": {},
   "source": [
    "If you would like to see the participant's answers, you can either print it directly after the experiment:"
   ]
  },
  {
   "cell_type": "code",
   "execution_count": 36,
   "metadata": {},
   "outputs": [
    {
     "name": "stdout",
     "output_type": "stream",
     "text": [
      "  Subject                       Stim Correct Answer Subject Answer Accuracy\n",
      "0       1  woollybearcaterpillar.jpg              a            [b]        0\n",
      "1       1  woollybearcaterpillar.jpg              b            [b]        1\n",
      "2       1  woollybearcaterpillar.jpg              b            [b]        1\n",
      "3       1  woollybearcaterpillar.jpg              a            [b]        0\n"
     ]
    }
   ],
   "source": [
    "print(output)"
   ]
  }
 ],
 "metadata": {
  "kernelspec": {
   "display_name": "Python 3",
   "language": "python",
   "name": "python3"
  },
  "language_info": {
   "codemirror_mode": {
    "name": "ipython",
    "version": 3
   },
   "file_extension": ".py",
   "mimetype": "text/x-python",
   "name": "python",
   "nbconvert_exporter": "python",
   "pygments_lexer": "ipython3",
   "version": "3.8.10"
  }
 },
 "nbformat": 4,
 "nbformat_minor": 2
}
